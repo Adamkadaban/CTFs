{
 "cells": [
  {
   "cell_type": "markdown",
   "id": "739487ac-1410-4a5d-afcf-6b9d53e01fe1",
   "metadata": {},
   "source": [
    "# National Conservation Data Science Team\n",
    "## Statistical Investigation into the Mountain Weasel (M. altaica)\n",
    "\n",
    "### About\n",
    "\n",
    "The mountain weasel, also known as the pale weasel, Altai weasel or solongoi, primarily lives in high-altitude environments, as well as rocky tundra and grassy woodlands. This weasel rests in rock crevices, tree trunks, and abandoned burrows of other animals or the animals it previously hunted.\n",
    "\n",
    "Conservation status: Near Threatened (Population decreasing)\n",
    "\n",
    "Gestation period: 40 days\n",
    "\n",
    "Higher classification: Weasel\n",
    "\n",
    "Length: 9.6 in. (Adult)\n",
    "\n",
    "Mass: 6.4 oz (Adult)\n",
    "\n",
    "Rank: Species\n",
    "\n",
    "Scientific name: Mustela altaica"
   ]
  },
  {
   "cell_type": "code",
   "execution_count": 6,
   "id": "06bfd6bc-6729-4251-9105-9007a72d4d6c",
   "metadata": {},
   "outputs": [
    {
     "name": "stdout",
     "output_type": "stream",
     "text": [
      "['\\ufeffOBJECTID,SName,CName,Season,Shape_Name,Shape__Area,Shape__Length']\n",
      "['1,Mustela', 'frenata,LONG-TAILED', 'WEASEL,Y,M157,498403947818.375,8364371.94328192']\n"
     ]
    }
   ],
   "source": [
    "import csv\n",
    "with open('Long-Tailed_Weasel_Range_-_CWHR_M157_[ds1940].csv', \"r\") as f:\n",
    "    weaseldata = csv.reader(f, delimiter=\" \")\n",
    "    for row in weaseldata:\n",
    "        print(row)"
   ]
  },
  {
   "cell_type": "code",
   "execution_count": 9,
   "id": "2f266539-e598-4e32-a498-959bbae3f90f",
   "metadata": {},
   "outputs": [
    {
     "ename": "NameError",
     "evalue": "name 'N' is not defined",
     "output_type": "error",
     "traceback": [
      "\u001b[0;31m---------------------------------------------------------------------------\u001b[0m",
      "\u001b[0;31mNameError\u001b[0m                                 Traceback (most recent call last)",
      "Input \u001b[0;32mIn [9]\u001b[0m, in \u001b[0;36m<cell line: 6>\u001b[0;34m()\u001b[0m\n\u001b[1;32m      2\u001b[0m \u001b[38;5;28;01mimport\u001b[39;00m \u001b[38;5;21;01mnumpy\u001b[39;00m \u001b[38;5;28;01mas\u001b[39;00m \u001b[38;5;21;01mnp\u001b[39;00m\n\u001b[1;32m      4\u001b[0m data\u001b[38;5;241m=\u001b[39mnp\u001b[38;5;241m.\u001b[39mrandom\u001b[38;5;241m.\u001b[39mrandn(\u001b[38;5;241m1000\u001b[39m)\n\u001b[1;32m      6\u001b[0m df\u001b[38;5;241m=\u001b[39mpd\u001b[38;5;241m.\u001b[39mDataFrame(\n\u001b[1;32m      7\u001b[0m     {\u001b[38;5;124m\"\u001b[39m\u001b[38;5;124mname\u001b[39m\u001b[38;5;124m\"\u001b[39m:data,\n\u001b[0;32m----> 8\u001b[0m      \u001b[38;5;124m\"\u001b[39m\u001b[38;5;124mnum\u001b[39m\u001b[38;5;124m\"\u001b[39m:np\u001b[38;5;241m.\u001b[39marange(\u001b[43mN\u001b[49m),\n\u001b[1;32m      9\u001b[0m      \u001b[38;5;124m\"\u001b[39m\u001b[38;5;124mscore\u001b[39m\u001b[38;5;124m\"\u001b[39m:np\u001b[38;5;241m.\u001b[39mrandom\u001b[38;5;241m.\u001b[39mrandint(\u001b[38;5;241m40\u001b[39m,\u001b[38;5;241m100\u001b[39m,\n\u001b[1;32m     10\u001b[0m                                size\u001b[38;5;241m=\u001b[39mN),\n\u001b[1;32m     11\u001b[0m      \u001b[38;5;124m\"\u001b[39m\u001b[38;5;124mweight\u001b[39m\u001b[38;5;124m\"\u001b[39m:np\u001b[38;5;241m.\u001b[39mrandom\u001b[38;5;241m.\u001b[39muniform(\u001b[38;5;241m50\u001b[39m,\u001b[38;5;241m70\u001b[39m,\n\u001b[1;32m     12\u001b[0m                                 size\u001b[38;5;241m=\u001b[39mN)},\n\u001b[1;32m     13\u001b[0m     columns\u001b[38;5;241m=\u001b[39m[\u001b[38;5;124m\"\u001b[39m\u001b[38;5;124mnum\u001b[39m\u001b[38;5;124m\"\u001b[39m,\u001b[38;5;124m\"\u001b[39m\u001b[38;5;124mname\u001b[39m\u001b[38;5;124m\"\u001b[39m,\u001b[38;5;124m\"\u001b[39m\u001b[38;5;124mscore\u001b[39m\u001b[38;5;124m\"\u001b[39m,\u001b[38;5;124m\"\u001b[39m\u001b[38;5;124mweight\u001b[39m\u001b[38;5;124m\"\u001b[39m])\n\u001b[1;32m     15\u001b[0m df[\u001b[38;5;124m\"\u001b[39m\u001b[38;5;124mname\u001b[39m\u001b[38;5;124m\"\u001b[39m]\u001b[38;5;241m=\u001b[39mdf[\u001b[38;5;124m\"\u001b[39m\u001b[38;5;124mname\u001b[39m\u001b[38;5;124m\"\u001b[39m]\u001b[38;5;241m.\u001b[39mastype(\u001b[38;5;124m\"\u001b[39m\u001b[38;5;124mcategory\u001b[39m\u001b[38;5;124m\"\u001b[39m)\n\u001b[1;32m     16\u001b[0m df\u001b[38;5;241m.\u001b[39mname\n",
      "\u001b[0;31mNameError\u001b[0m: name 'N' is not defined"
     ]
    }
   ],
   "source": [
    "import pandas as pd\n",
    "import numpy as np\n",
    "\n",
    "data=np.random.randn(1000)\n",
    "\n",
    "N=len(data)\n",
    "\n",
    "df=pd.DataFrame(\n",
    "    {\"name\":data,\n",
    "     \"num\":np.arange(N),\n",
    "     \"score\":np.random.randint(40,100,\n",
    "                               size=N),\n",
    "     \"weight\":np.random.uniform(50,70,\n",
    "                                size=N)},\n",
    "    columns=[\"num\",\"name\",\"score\",\"weight\"])\n",
    "\n",
    "df[\"name\"]=df[\"name\"].astype(\"category\")\n",
    "df.name\n"
   ]
  },
  {
   "cell_type": "markdown",
   "id": "4bd57cad-6cc1-423d-9780-e5fdcf6891fa",
   "metadata": {},
   "source": [
    "# TODO\n",
    "Source data\n",
    "Compare weasel lengths / girths by year"
   ]
  },
  {
   "cell_type": "code",
   "execution_count": null,
   "id": "85df9b20-72d6-405e-b1e5-96abdf0d3f94",
   "metadata": {},
   "outputs": [],
   "source": []
  }
 ],
 "metadata": {
  "kernelspec": {
   "display_name": "Python 3 (ipykernel)",
   "language": "python",
   "name": "python3"
  },
  "language_info": {
   "codemirror_mode": {
    "name": "ipython",
    "version": 3
   },
   "file_extension": ".py",
   "mimetype": "text/x-python",
   "name": "python",
   "nbconvert_exporter": "python",
   "pygments_lexer": "ipython3",
   "version": "3.8.10"
  }
 },
 "nbformat": 4,
 "nbformat_minor": 5
}

{
 "cells": [
  {
   "cell_type": "markdown",
   "id": "739487ac-1410-4a5d-afcf-6b9d53e01fe1",
   "metadata": {},
   "source": [
    "# National Conservation Data Science Team\n",
    "## Statistical Investigation into the Mountain Weasel (M. altaica)\n",
    "\n",
    "### About\n",
    "\n",
    "The mountain weasel, also known as the pale weasel, Altai weasel or solongoi, primarily lives in high-altitude environments, as well as rocky tundra and grassy woodlands. This weasel rests in rock crevices, tree trunks, and abandoned burrows of other animals or the animals it previously hunted.\n",
    "\n",
    "Conservation status: Near Threatened (Population decreasing)\n",
    "\n",
    "Gestation period: 40 days\n",
    "\n",
    "Higher classification: Weasel\n",
    "\n",
    "Length: 9.6 in. (Adult)\n",
    "\n",
    "Mass: 6.4 oz (Adult)\n",
    "\n",
    "Rank: Species\n",
    "\n",
    "Scientific name: Mustela altaica"
   ]
  },
  {
   "cell_type": "code",
   "execution_count": 16,
   "id": "06bfd6bc-6729-4251-9105-9007a72d4d6c",
   "metadata": {},
   "outputs": [
    {
     "name": "stdout",
     "output_type": "stream",
     "text": [
      "['\\ufeffOBJECTID,SName,CName,Season,Shape_Name,Shape__Area,Shape__Length']\n",
      "['1,Mustela', 'frenata,LONG-TAILED', 'WEASEL,Y,M157,498403947818.375,8364371.94328192']\n"
     ]
    }
   ],
   "source": [
    "import csv\n",
    "with open('Long-Tailed_Weasel_Range_-_CWHR_M157_[ds1940].csv', \"r\") as f:\n",
    "    weaseldata = csv.reader(f, delimiter=\" \")\n",
    "    for row in weaseldata:\n",
    "        print(row)"
   ]
  },
  {
   "cell_type": "code",
   "execution_count": 11,
   "id": "2f266539-e598-4e32-a498-959bbae3f90f",
   "metadata": {},
   "outputs": [],
   "source": [
    "import pandas as pd\n",
    "import numpy as np\n",
    "\n",
    "# Set data frame\n",
    "\n",
    "data=np.random.randn(1000)"
   ]
  },
  {
   "cell_type": "code",
   "execution_count": 17,
   "id": "86fe0ce5-4c5c-4886-840f-f89fc76eda09",
   "metadata": {},
   "outputs": [],
   "source": [
    "N=len(data)"
   ]
  },
  {
   "cell_type": "code",
   "execution_count": 18,
   "id": "85df9b20-72d6-405e-b1e5-96abdf0d3f94",
   "metadata": {},
   "outputs": [
    {
     "name": "stderr",
     "output_type": "stream",
     "text": [
      "/home/husky/.local/lib/python3.8/site-packages/IPython/lib/pretty.py:778: FutureWarning: Index.ravel returning ndarray is deprecated; in a future version this will return a view on self.\n",
      "  output = repr(obj)\n"
     ]
    },
    {
     "data": {
      "text/plain": [
       "0      0.395236\n",
       "1     -2.076999\n",
       "2     -0.376245\n",
       "3     -1.311725\n",
       "4      1.930204\n",
       "         ...   \n",
       "995    0.850316\n",
       "996   -0.796213\n",
       "997    1.581154\n",
       "998   -0.384427\n",
       "999    0.240693\n",
       "Name: name, Length: 1000, dtype: category\n",
       "Categories (1000, float64): [-2.898068, -2.855261, -2.732101, -2.724120, ..., 2.633050, 2.816518, 3.495429, 3.576344]"
      ]
     },
     "execution_count": 18,
     "metadata": {},
     "output_type": "execute_result"
    }
   ],
   "source": [
    "df=pd.DataFrame(\n",
    "    {\"name\":data,\n",
    "     \"num\":np.arange(N),\n",
    "     \"score\":np.random.randint(40,100,\n",
    "                               size=N),\n",
    "     \"weight\":np.random.uniform(50,70,\n",
    "                                size=N)},\n",
    "    columns=[\"num\",\"name\",\"score\",\"weight\"])\n",
    "\n",
    "df[\"name\"]=df[\"name\"].astype(\"category\")\n",
    "df.name"
   ]
  },
  {
   "cell_type": "markdown",
   "id": "4bd57cad-6cc1-423d-9780-e5fdcf6891fa",
   "metadata": {},
   "source": [
    "# TODO\n",
    "- Source data\n",
    "- Compare weasel lengths / girths by year"
   ]
  }
 ],
 "metadata": {
  "kernelspec": {
   "display_name": "Python 3 (ipykernel)",
   "language": "python",
   "name": "python3"
  },
  "language_info": {
   "codemirror_mode": {
    "name": "ipython",
    "version": 3
   },
   "file_extension": ".py",
   "mimetype": "text/x-python",
   "name": "python",
   "nbconvert_exporter": "python",
   "pygments_lexer": "ipython3",
   "version": "3.8.10"
  }
 },
 "nbformat": 4,
 "nbformat_minor": 5
}
